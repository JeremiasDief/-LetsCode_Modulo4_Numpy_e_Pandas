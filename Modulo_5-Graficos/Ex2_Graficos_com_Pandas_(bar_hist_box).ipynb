{
 "cells": [
  {
   "cell_type": "markdown",
   "id": "27db421d",
   "metadata": {},
   "source": [
    "### Aula 2: Exercícios\n",
    "\n",
    "Para estes exercícios, iremos utilizar duas bases:\n",
    "\n",
    "1) base fictícia de funcionários criada por cientistas de dados da IBM.\n",
    "\n",
    "**Variáveis:**\n",
    "- **Age:** Idade\n",
    "- **Attrition:** Se saiu da empresa (Sim ou não)\n",
    "- **BusinessTravel:** Frequência de viagens a trabalho\n",
    "- **DailyRate:** Custo do funcionário por dia\n",
    "- **Department:** Departamento\n",
    "- **DistanceFromHome:** Distância do trabalho até a casa do funcionário\n",
    "- **Education:** Nível de educação:\n",
    "    - 1: 'Below College'\n",
    "    - 2: 'College'\n",
    "    - 3: 'Bachelor'\n",
    "    - 4: 'Master'\n",
    "    - 5: 'Doctor'\n",
    "- **EducationField:** Área da educação\n",
    "- **EmployeeNumber:** ID do funcionário\n",
    "- **EnvironmentSatisfaction:** Satisfação com o ambiente de trabalho:\n",
    "    - 1: 'Low'\n",
    "    - 2: 'Medium'\n",
    "    - 3: 'High'\n",
    "    - 4: 'Very High'\n",
    "- **Gender:** Gênero\n",
    "- **HourlyRate:** Valor/hora\n",
    "- **JobInvolvement:** Nível de envolvimento com o trabalho (psicologica e emocionalmente):\n",
    "    - 1: 'Low'\n",
    "    - 2: 'Medium'\n",
    "    - 3: 'High'\n",
    "    - 4: 'Very High'\n",
    "- **JobLevel:** Nível do funcionário\n",
    "- **JobRole:** Cargo\n",
    "- **JobSatisfaction:** Nível de satisfação com o trabalho:\n",
    "    - 1: 'Low'\n",
    "    - 2: 'Medium'\n",
    "    - 3: 'High'\n",
    "    - 4: 'Very High'\n",
    "- **MaritalStatus:** Estado Civil\n",
    "- **NumCompaniesWorked:** Número de empresas que já trabalhou\n",
    "- **PercentSalaryHike:** Aumento salarial (%)\n",
    "- **PerformanceRating:** Nível de performance:\n",
    "    - 1: 'Low'\n",
    "    - 2: 'Good'\n",
    "    - 3: 'Excellent'\n",
    "    - 4: 'Outstanding'\n",
    "- **RelationshipSatisfaction:** Satisfação de relacionamento:\n",
    "    - 1: 'Low'\n",
    "    - 2: 'Medium'\n",
    "    - 3: 'High'\n",
    "    - 4: 'Very High'\n",
    "- **TotalWorkingYears:** Número de anos trabalhados\n",
    "- **TrainingTimesLastYear:** Número de treinamentos no ano anterior\n",
    "- **WorkLifeBalance:** Equilíbrio da vida profissional\n",
    "    - 1: 'Bad'\n",
    "    - 2: 'Good'\n",
    "    - 3: 'Better'\n",
    "    - 4: 'Best'\n",
    "- **YearsAtCompany:** Anos na empresa\n",
    "- **YearsInCurrentRole:** Anos na posição atual\n",
    "- **YearsSinceLastPromotion:** Anos desde a última promoção\n",
    "- **YearsWithCurrManager:** Anos com o mesmo gestor\n",
    "\n",
    "2) Base de dados de casos e óbitos de covid no estado de SP.\n",
    "\n",
    "- **nome_munic:** Nome do município\n",
    "- **codigo_ibge:** Código do município no IBGE (7 dígitos)\n",
    "- **casos_novos:** Casos novos registrados na data\n",
    "- **obitos_novos:** Óbitos novos registrados na data\n",
    "- **nome_drs:** Nome do Dpto. Regional de Saúde\n",
    "- **cod_drs:** Código do Dpto. Regional de Saúde\n",
    "- **pop:** População Estimada (fonte: SEADE)\n",
    "- **pop60:** População acima de 60 anos (fonte: SEADE)\n",
    "- **ano_mes:** Ano e mês dos dados"
   ]
  },
  {
   "cell_type": "code",
   "execution_count": 1,
   "id": "cc8717bc",
   "metadata": {},
   "outputs": [],
   "source": [
    "import pandas as pd\n",
    "import numpy as np"
   ]
  },
  {
   "cell_type": "code",
   "execution_count": 2,
   "id": "cd39ba13",
   "metadata": {},
   "outputs": [],
   "source": [
    "df1 = pd.read_csv('./data/IBM_Employees.csv')"
   ]
  },
  {
   "cell_type": "code",
   "execution_count": 3,
   "id": "0a4730cc",
   "metadata": {},
   "outputs": [],
   "source": [
    "df2 = pd.read_csv('./data/dados_covid_sp_20.csv')"
   ]
  },
  {
   "cell_type": "markdown",
   "id": "272987e1",
   "metadata": {},
   "source": [
    "## Exercício 1:\n",
    "Utilizando a base de dados de covid:\n",
    "\n",
    "**a)** Faça um gráfico de barras mostrando o total de óbitos (considerando todos os meses) para todos os DRS, excluindo a Grande São Paulo. Coloque título no gráfico e nos eixos, defina um tamanho de imagem bom e intercale as barras com as cores 'red' e 'green'."
   ]
  },
  {
   "cell_type": "code",
   "execution_count": 18,
   "id": "db992733",
   "metadata": {},
   "outputs": [
    {
     "data": {
      "text/plain": [
       "<AxesSubplot:title={'center':'Total de óbitos por DRS'}, xlabel='Nome do Dpto. Regional de Saúde', ylabel='Número de óbitos'>"
      ]
     },
     "execution_count": 18,
     "metadata": {},
     "output_type": "execute_result"
    },
    {
     "data": {
      "image/png": "[encoded data removed]",
      "text/plain": [
       "<Figure size 360x360 with 1 Axes>"
      ]
     },
     "metadata": {
      "needs_background": "light"
     },
     "output_type": "display_data"
    }
   ],
   "source": [
    "df2_filtrado = df2[df2[\"nome_drs\"] != \"Grande São Paulo\"]\n",
    "\n",
    "df2_filtrado.groupby([\"nome_drs\"])[\"obitos_novos\"].sum().plot(kind=\"bar\", title=\"Total de óbitos por DRS\", figsize=(5,5),\n",
    "                                                             xlabel=\"Nome do Dpto. Regional de Saúde\",\n",
    "                                                             ylabel=\"Número de óbitos\",\n",
    "                                                             color=[\"red\", \"green\"])"
   ]
  },
  {
   "cell_type": "markdown",
   "id": "5889d8f5",
   "metadata": {},
   "source": [
    "**b)**  Faça um gráfico de barras horizontal mostrando o total de óbitos no mês de abril para 3 DRS da sua escolha. Coloque título no gráfico e nos eixos, defina um tamanho de imagem bom."
   ]
  },
  {
   "cell_type": "code",
   "execution_count": 36,
   "id": "10d0f677",
   "metadata": {},
   "outputs": [
    {
     "data": {
      "text/html": [
       "<div>\n",
       "<style scoped>\n",
       "    .dataframe tbody tr th:only-of-type {\n",
       "        vertical-align: middle;\n",
       "    }\n",
       "\n",
       "    .dataframe tbody tr th {\n",
       "        vertical-align: top;\n",
       "    }\n",
       "\n",
       "    .dataframe thead th {\n",
       "        text-align: right;\n",
       "    }\n",
       "</style>\n",
       "<table border=\"1\" class=\"dataframe\">\n",
       "  <thead>\n",
       "    <tr style=\"text-align: right;\">\n",
       "      <th></th>\n",
       "      <th>nome_munic</th>\n",
       "      <th>codigo_ibge</th>\n",
       "      <th>nome_drs</th>\n",
       "      <th>cod_drs</th>\n",
       "      <th>pop</th>\n",
       "      <th>pop_60</th>\n",
       "      <th>ano_mes</th>\n",
       "      <th>casos_novos</th>\n",
       "      <th>obitos_novos</th>\n",
       "    </tr>\n",
       "  </thead>\n",
       "  <tbody>\n",
       "    <tr>\n",
       "      <th>22</th>\n",
       "      <td>Alambari</td>\n",
       "      <td>3500758</td>\n",
       "      <td>Sorocaba</td>\n",
       "      <td>6.0</td>\n",
       "      <td>5779.0</td>\n",
       "      <td>830.0</td>\n",
       "      <td>2020-04</td>\n",
       "      <td>1</td>\n",
       "      <td>0</td>\n",
       "    </tr>\n",
       "    <tr>\n",
       "      <th>47</th>\n",
       "      <td>Alumínio</td>\n",
       "      <td>3501152</td>\n",
       "      <td>Sorocaba</td>\n",
       "      <td>6.0</td>\n",
       "      <td>17972.0</td>\n",
       "      <td>2230.0</td>\n",
       "      <td>2020-04</td>\n",
       "      <td>0</td>\n",
       "      <td>0</td>\n",
       "    </tr>\n",
       "    <tr>\n",
       "      <th>57</th>\n",
       "      <td>Americana</td>\n",
       "      <td>3501608</td>\n",
       "      <td>Campinas</td>\n",
       "      <td>3.0</td>\n",
       "      <td>233458.0</td>\n",
       "      <td>40276.0</td>\n",
       "      <td>2020-04</td>\n",
       "      <td>49</td>\n",
       "      <td>3</td>\n",
       "    </tr>\n",
       "    <tr>\n",
       "      <th>62</th>\n",
       "      <td>Amparo</td>\n",
       "      <td>3501905</td>\n",
       "      <td>Campinas</td>\n",
       "      <td>3.0</td>\n",
       "      <td>69639.0</td>\n",
       "      <td>12727.0</td>\n",
       "      <td>2020-04</td>\n",
       "      <td>9</td>\n",
       "      <td>0</td>\n",
       "    </tr>\n",
       "    <tr>\n",
       "      <th>77</th>\n",
       "      <td>Analândia</td>\n",
       "      <td>3502002</td>\n",
       "      <td>Piracicaba</td>\n",
       "      <td>11.0</td>\n",
       "      <td>4850.0</td>\n",
       "      <td>813.0</td>\n",
       "      <td>2020-04</td>\n",
       "      <td>0</td>\n",
       "      <td>0</td>\n",
       "    </tr>\n",
       "    <tr>\n",
       "      <th>...</th>\n",
       "      <td>...</td>\n",
       "      <td>...</td>\n",
       "      <td>...</td>\n",
       "      <td>...</td>\n",
       "      <td>...</td>\n",
       "      <td>...</td>\n",
       "      <td>...</td>\n",
       "      <td>...</td>\n",
       "      <td>...</td>\n",
       "    </tr>\n",
       "    <tr>\n",
       "      <th>3147</th>\n",
       "      <td>Vinhedo</td>\n",
       "      <td>3556701</td>\n",
       "      <td>Campinas</td>\n",
       "      <td>3.0</td>\n",
       "      <td>77521.0</td>\n",
       "      <td>11665.0</td>\n",
       "      <td>2020-04</td>\n",
       "      <td>31</td>\n",
       "      <td>2</td>\n",
       "    </tr>\n",
       "    <tr>\n",
       "      <th>3167</th>\n",
       "      <td>Votorantim</td>\n",
       "      <td>3557006</td>\n",
       "      <td>Sorocaba</td>\n",
       "      <td>6.0</td>\n",
       "      <td>119824.0</td>\n",
       "      <td>16378.0</td>\n",
       "      <td>2020-04</td>\n",
       "      <td>11</td>\n",
       "      <td>2</td>\n",
       "    </tr>\n",
       "    <tr>\n",
       "      <th>3177</th>\n",
       "      <td>Várzea Paulista</td>\n",
       "      <td>3556503</td>\n",
       "      <td>Campinas</td>\n",
       "      <td>3.0</td>\n",
       "      <td>120535.0</td>\n",
       "      <td>15274.0</td>\n",
       "      <td>2020-04</td>\n",
       "      <td>13</td>\n",
       "      <td>2</td>\n",
       "    </tr>\n",
       "    <tr>\n",
       "      <th>3192</th>\n",
       "      <td>Águas de Lindóia</td>\n",
       "      <td>3500501</td>\n",
       "      <td>Campinas</td>\n",
       "      <td>3.0</td>\n",
       "      <td>18374.0</td>\n",
       "      <td>3275.0</td>\n",
       "      <td>2020-04</td>\n",
       "      <td>4</td>\n",
       "      <td>1</td>\n",
       "    </tr>\n",
       "    <tr>\n",
       "      <th>3202</th>\n",
       "      <td>Águas de São Pedro</td>\n",
       "      <td>3500600</td>\n",
       "      <td>Piracicaba</td>\n",
       "      <td>11.0</td>\n",
       "      <td>3122.0</td>\n",
       "      <td>764.0</td>\n",
       "      <td>2020-04</td>\n",
       "      <td>1</td>\n",
       "      <td>0</td>\n",
       "    </tr>\n",
       "  </tbody>\n",
       "</table>\n",
       "<p>116 rows × 9 columns</p>\n",
       "</div>"
      ],
      "text/plain": [
       "              nome_munic  codigo_ibge    nome_drs  cod_drs       pop   pop_60  \\\n",
       "22              Alambari      3500758    Sorocaba      6.0    5779.0    830.0   \n",
       "47              Alumínio      3501152    Sorocaba      6.0   17972.0   2230.0   \n",
       "57             Americana      3501608    Campinas      3.0  233458.0  40276.0   \n",
       "62                Amparo      3501905    Campinas      3.0   69639.0  12727.0   \n",
       "77             Analândia      3502002  Piracicaba     11.0    4850.0    813.0   \n",
       "...                  ...          ...         ...      ...       ...      ...   \n",
       "3147             Vinhedo      3556701    Campinas      3.0   77521.0  11665.0   \n",
       "3167          Votorantim      3557006    Sorocaba      6.0  119824.0  16378.0   \n",
       "3177     Várzea Paulista      3556503    Campinas      3.0  120535.0  15274.0   \n",
       "3192    Águas de Lindóia      3500501    Campinas      3.0   18374.0   3275.0   \n",
       "3202  Águas de São Pedro      3500600  Piracicaba     11.0    3122.0    764.0   \n",
       "\n",
       "      ano_mes  casos_novos  obitos_novos  \n",
       "22    2020-04            1             0  \n",
       "47    2020-04            0             0  \n",
       "57    2020-04           49             3  \n",
       "62    2020-04            9             0  \n",
       "77    2020-04            0             0  \n",
       "...       ...          ...           ...  \n",
       "3147  2020-04           31             2  \n",
       "3167  2020-04           11             2  \n",
       "3177  2020-04           13             2  \n",
       "3192  2020-04            4             1  \n",
       "3202  2020-04            1             0  \n",
       "\n",
       "[116 rows x 9 columns]"
      ]
     },
     "execution_count": 36,
     "metadata": {},
     "output_type": "execute_result"
    }
   ],
   "source": [
    "df2_filtrado2 = df2[(df2[\"nome_drs\"] == \"Campinas\") |\n",
    "                   (df2[\"nome_drs\"] == \"Piracicaba\") |\n",
    "                   (df2[\"nome_drs\"] == \"Sorocaba\")]\n",
    "df2_filtrado2 = df2_filtrado2[df2_filtrado2[\"ano_mes\"] == \"2020-04\"]\n",
    "df2_filtrado2"
   ]
  },
  {
   "cell_type": "code",
   "execution_count": 40,
   "id": "d6c91579",
   "metadata": {},
   "outputs": [
    {
     "data": {
      "text/plain": [
       "<AxesSubplot:title={'center':'Total de óbitos no mês de abril'}, ylabel='Nome do Dpto. Regional de Saúde'>"
      ]
     },
     "execution_count": 40,
     "metadata": {},
     "output_type": "execute_result"
    },
    {
     "data": {
      "image/png": "[encoded data removed]",
      "text/plain": [
       "<Figure size 432x288 with 1 Axes>"
      ]
     },
     "metadata": {
      "needs_background": "light"
     },
     "output_type": "display_data"
    }
   ],
   "source": [
    "df2_filtrado2.groupby([\"nome_drs\"])[\"obitos_novos\"].sum().plot(kind=\"barh\", title=\"Total de óbitos no mês de abril\",\n",
    "                                                              ylabel=\"Número de óbitos\",\n",
    "                                                              xlabel=\"Nome do Dpto. Regional de Saúde\")"
   ]
  },
  {
   "cell_type": "markdown",
   "id": "cdcbe7ac",
   "metadata": {},
   "source": [
    "## Exercício 2\n",
    "\n",
    "**a)** Utilizando a base de dados da IBM, crie um histograma para as idades dos funcionários, separando por gênero."
   ]
  },
  {
   "cell_type": "code",
   "execution_count": 43,
   "id": "71c2fb1a",
   "metadata": {},
   "outputs": [
    {
     "data": {
      "image/png": "[encoded data removed]",
      "text/plain": [
       "<Figure size 432x288 with 1 Axes>"
      ]
     },
     "metadata": {
      "needs_background": "light"
     },
     "output_type": "display_data"
    }
   ],
   "source": [
    "ax1 = df1[df1[\"Gender\"]==\"Female\"].plot(y=\"Age\", kind=\"hist\", bins=8, label=\"Female\")\n",
    "ax2 = df1[df1[\"Gender\"]==\"Male\"].plot(y=\"Age\", kind=\"hist\", bins=8, alpha=.5, label=\"Male\", ax=ax1)"
   ]
  },
  {
   "cell_type": "markdown",
   "id": "8c9a5551",
   "metadata": {},
   "source": [
    "**b)** Faça agora um boxplot das idades, por gênero."
   ]
  },
  {
   "cell_type": "code",
   "execution_count": 44,
   "id": "19ebc888",
   "metadata": {},
   "outputs": [
    {
     "data": {
      "text/plain": [
       "<AxesSubplot:title={'center':'Age'}, xlabel='Gender'>"
      ]
     },
     "execution_count": 44,
     "metadata": {},
     "output_type": "execute_result"
    },
    {
     "data": {
      "image/png": "[encoded data removed]",
      "text/plain": [
       "<Figure size 720x720 with 1 Axes>"
      ]
     },
     "metadata": {
      "needs_background": "light"
     },
     "output_type": "display_data"
    }
   ],
   "source": [
    "df1.boxplot(column=\"Age\", by=\"Gender\", grid=False, figsize=(10,10))"
   ]
  },
  {
   "cell_type": "code",
   "execution_count": null,
   "id": "abe85540",
   "metadata": {},
   "outputs": [],
   "source": []
  }
 ],
 "metadata": {
  "kernelspec": {
   "display_name": "Python 3",
   "language": "python",
   "name": "python3"
  },
  "language_info": {
   "codemirror_mode": {
    "name": "ipython",
    "version": 3
   },
   "file_extension": ".py",
   "mimetype": "text/x-python",
   "name": "python",
   "nbconvert_exporter": "python",
   "pygments_lexer": "ipython3",
   "version": "3.8.8"
  }
 },
 "nbformat": 4,
 "nbformat_minor": 5
}
